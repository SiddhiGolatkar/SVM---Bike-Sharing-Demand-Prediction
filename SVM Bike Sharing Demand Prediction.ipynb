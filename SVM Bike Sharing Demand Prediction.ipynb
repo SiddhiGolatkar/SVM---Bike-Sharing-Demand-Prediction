{
 "cells": [
  {
   "cell_type": "markdown",
   "metadata": {},
   "source": [
    "# <center> Bike Sharing Demand Prediction using SVM </center>\n",
    "\n",
    "___\n",
    "\n",
    "SVM Model objective is to find the maximum margin classifier. The maximum margin classifier helps to reduces the hypothesis space, effect of high dimensionality and computation. \n",
    "\n",
    "The points which maximum margin classifier touches are called support vectors. These vectors alone are enough to classify all other points.\n",
    "\n",
    "<img src=\"svm.png\" alt=\"https://becominghuman.ai/ensemble-learning-bagging-and-boosting-d20f38be9b1e\" width=\"700\" height=\"700\">\n",
    "\n",
    "___\n",
    "\n",
    "## Bike Sharing Demand Data\n",
    "\n",
    "We will use [Bike Sharing Demand Dataset](https://www.kaggle.com/c/bike-sharing-demand/data). We are provided hourly rental data spanning two years. The training set is comprised of the first 19 days of each month, while the test set is the 20th to the end of the month. \n",
    "\n",
    "| Feature | Description |\n",
    "| --- | --- |\n",
    "| datetime | hourly date + timestamp |\n",
    "| season |  1 = spring, 2 = summer, 3 = fall, 4 = winter |\n",
    "| holiday | whether the day is considered a holiday |\n",
    "| workingday | whether the day is neither a weekend nor holiday |\n",
    "| weather | 1 = Clear, Few clouds, Partly cloudy, Partly cloudy |\n",
    "|  | 2 = Mist + Cloudy, Mist + Broken clouds, Mist + Few clouds, Mist |\n",
    "|  | 3 = Light Snow, Light Rain + Thunderstorm + Scattered clouds, Light Rain + Scattered clouds |\n",
    "|  | 4 = Heavy Rain + Ice Pallets + Thunderstorm + Mist, Snow + Fog |\n",
    "| temp | temperature in Celsius |\n",
    "| atemp | \"feels like\" temperature in Celsius |\n",
    "| humidity | relative humidity |\n",
    "| windspeed | wind speed |\n",
    "| casual | number of non-registered user rentals initiated |\n",
    "| registered | number of registered user rentals initiated |\n",
    "| count | number of total rentals |\n",
    "\n",
    "**The goal is to predict the total count of bikes rented during each hour covered by the test set, using only information available prior to the rental period.**\n",
    "___"
   ]
  },
  {
   "cell_type": "markdown",
   "metadata": {},
   "source": [
    "## Load the libraries"
   ]
  },
  {
   "cell_type": "code",
   "execution_count": 1,
   "metadata": {
    "ExecuteTime": {
     "end_time": "2020-02-16T05:32:06.007047Z",
     "start_time": "2020-02-16T05:32:05.381432Z"
    },
    "scrolled": true
   },
   "outputs": [],
   "source": [
    "import pandas as pd\n",
    "\n",
    "# skip warnings\n",
    "import warnings\n",
    "warnings.filterwarnings('ignore')"
   ]
  },
  {
   "cell_type": "markdown",
   "metadata": {},
   "source": [
    "## Load Data"
   ]
  },
  {
   "cell_type": "code",
   "execution_count": 3,
   "metadata": {
    "ExecuteTime": {
     "end_time": "2020-02-16T05:32:06.093718Z",
     "start_time": "2020-02-16T05:32:06.010183Z"
    },
    "scrolled": true
   },
   "outputs": [
    {
     "data": {
      "text/plain": [
       "(10886, 12)"
      ]
     },
     "execution_count": 3,
     "metadata": {},
     "output_type": "execute_result"
    }
   ],
   "source": [
    "### parse [\"datetime\"] columns as dates while reading the data.Check parse_dates in pd.read_csv\n",
    "### parsing dateime will read sting of datetime and stores it in datetimeformat.\n",
    "\n",
    "bike_sharing = pd.read_csv('bike-sharing-demand.csv',\n",
    "                           parse_dates = [\"datetime\"])\n",
    "\n",
    "bike_sharing.shape"
   ]
  },
  {
   "cell_type": "markdown",
   "metadata": {},
   "source": [
    "There are a total of 10866 observations in the data set and 12 features. "
   ]
  },
  {
   "cell_type": "markdown",
   "metadata": {},
   "source": [
    "## Exploratory Data Analysis\n",
    "\n",
    "Let us take a look at a portion of the data."
   ]
  },
  {
   "cell_type": "code",
   "execution_count": 4,
   "metadata": {
    "ExecuteTime": {
     "end_time": "2020-02-16T05:32:06.144243Z",
     "start_time": "2020-02-16T05:32:06.107241Z"
    },
    "scrolled": true
   },
   "outputs": [
    {
     "data": {
      "text/html": [
       "<div>\n",
       "<style scoped>\n",
       "    .dataframe tbody tr th:only-of-type {\n",
       "        vertical-align: middle;\n",
       "    }\n",
       "\n",
       "    .dataframe tbody tr th {\n",
       "        vertical-align: top;\n",
       "    }\n",
       "\n",
       "    .dataframe thead th {\n",
       "        text-align: right;\n",
       "    }\n",
       "</style>\n",
       "<table border=\"1\" class=\"dataframe\">\n",
       "  <thead>\n",
       "    <tr style=\"text-align: right;\">\n",
       "      <th></th>\n",
       "      <th>datetime</th>\n",
       "      <th>season</th>\n",
       "      <th>holiday</th>\n",
       "      <th>workingday</th>\n",
       "      <th>weather</th>\n",
       "      <th>temp</th>\n",
       "      <th>atemp</th>\n",
       "      <th>humidity</th>\n",
       "      <th>windspeed</th>\n",
       "      <th>casual</th>\n",
       "      <th>registered</th>\n",
       "      <th>count</th>\n",
       "    </tr>\n",
       "  </thead>\n",
       "  <tbody>\n",
       "    <tr>\n",
       "      <th>10881</th>\n",
       "      <td>2012-12-19 19:00:00</td>\n",
       "      <td>4</td>\n",
       "      <td>0</td>\n",
       "      <td>1</td>\n",
       "      <td>1</td>\n",
       "      <td>15.58</td>\n",
       "      <td>19.695</td>\n",
       "      <td>50</td>\n",
       "      <td>26.0027</td>\n",
       "      <td>7</td>\n",
       "      <td>329</td>\n",
       "      <td>336</td>\n",
       "    </tr>\n",
       "    <tr>\n",
       "      <th>10882</th>\n",
       "      <td>2012-12-19 20:00:00</td>\n",
       "      <td>4</td>\n",
       "      <td>0</td>\n",
       "      <td>1</td>\n",
       "      <td>1</td>\n",
       "      <td>14.76</td>\n",
       "      <td>17.425</td>\n",
       "      <td>57</td>\n",
       "      <td>15.0013</td>\n",
       "      <td>10</td>\n",
       "      <td>231</td>\n",
       "      <td>241</td>\n",
       "    </tr>\n",
       "    <tr>\n",
       "      <th>10883</th>\n",
       "      <td>2012-12-19 21:00:00</td>\n",
       "      <td>4</td>\n",
       "      <td>0</td>\n",
       "      <td>1</td>\n",
       "      <td>1</td>\n",
       "      <td>13.94</td>\n",
       "      <td>15.910</td>\n",
       "      <td>61</td>\n",
       "      <td>15.0013</td>\n",
       "      <td>4</td>\n",
       "      <td>164</td>\n",
       "      <td>168</td>\n",
       "    </tr>\n",
       "    <tr>\n",
       "      <th>10884</th>\n",
       "      <td>2012-12-19 22:00:00</td>\n",
       "      <td>4</td>\n",
       "      <td>0</td>\n",
       "      <td>1</td>\n",
       "      <td>1</td>\n",
       "      <td>13.94</td>\n",
       "      <td>17.425</td>\n",
       "      <td>61</td>\n",
       "      <td>6.0032</td>\n",
       "      <td>12</td>\n",
       "      <td>117</td>\n",
       "      <td>129</td>\n",
       "    </tr>\n",
       "    <tr>\n",
       "      <th>10885</th>\n",
       "      <td>2012-12-19 23:00:00</td>\n",
       "      <td>4</td>\n",
       "      <td>0</td>\n",
       "      <td>1</td>\n",
       "      <td>1</td>\n",
       "      <td>13.12</td>\n",
       "      <td>16.665</td>\n",
       "      <td>66</td>\n",
       "      <td>8.9981</td>\n",
       "      <td>4</td>\n",
       "      <td>84</td>\n",
       "      <td>88</td>\n",
       "    </tr>\n",
       "  </tbody>\n",
       "</table>\n",
       "</div>"
      ],
      "text/plain": [
       "                 datetime  season  holiday  workingday  weather   temp  \\\n",
       "10881 2012-12-19 19:00:00       4        0           1        1  15.58   \n",
       "10882 2012-12-19 20:00:00       4        0           1        1  14.76   \n",
       "10883 2012-12-19 21:00:00       4        0           1        1  13.94   \n",
       "10884 2012-12-19 22:00:00       4        0           1        1  13.94   \n",
       "10885 2012-12-19 23:00:00       4        0           1        1  13.12   \n",
       "\n",
       "        atemp  humidity  windspeed  casual  registered  count  \n",
       "10881  19.695        50    26.0027       7         329    336  \n",
       "10882  17.425        57    15.0013      10         231    241  \n",
       "10883  15.910        61    15.0013       4         164    168  \n",
       "10884  17.425        61     6.0032      12         117    129  \n",
       "10885  16.665        66     8.9981       4          84     88  "
      ]
     },
     "execution_count": 4,
     "metadata": {},
     "output_type": "execute_result"
    }
   ],
   "source": [
    "bike_sharing.tail()"
   ]
  },
  {
   "cell_type": "markdown",
   "metadata": {},
   "source": [
    "Let us check if all columns are in appropriate data format."
   ]
  },
  {
   "cell_type": "code",
   "execution_count": 5,
   "metadata": {
    "ExecuteTime": {
     "end_time": "2020-02-16T05:32:06.167454Z",
     "start_time": "2020-02-16T05:32:06.156878Z"
    },
    "scrolled": true
   },
   "outputs": [
    {
     "data": {
      "text/plain": [
       "datetime      datetime64[ns]\n",
       "season                 int64\n",
       "holiday                int64\n",
       "workingday             int64\n",
       "weather                int64\n",
       "temp                 float64\n",
       "atemp                float64\n",
       "humidity               int64\n",
       "windspeed            float64\n",
       "casual                 int64\n",
       "registered             int64\n",
       "count                  int64\n",
       "dtype: object"
      ]
     },
     "execution_count": 5,
     "metadata": {},
     "output_type": "execute_result"
    }
   ],
   "source": [
    "bike_sharing.dtypes"
   ]
  },
  {
   "cell_type": "markdown",
   "metadata": {},
   "source": [
    "All features have the appropriate data types.\n",
    "\n",
    "We will extract all time features from datetime field."
   ]
  },
  {
   "cell_type": "code",
   "execution_count": 6,
   "metadata": {
    "ExecuteTime": {
     "end_time": "2020-02-16T05:32:06.231600Z",
     "start_time": "2020-02-16T05:32:06.172687Z"
    },
    "scrolled": true
   },
   "outputs": [
    {
     "data": {
      "text/html": [
       "<div>\n",
       "<style scoped>\n",
       "    .dataframe tbody tr th:only-of-type {\n",
       "        vertical-align: middle;\n",
       "    }\n",
       "\n",
       "    .dataframe tbody tr th {\n",
       "        vertical-align: top;\n",
       "    }\n",
       "\n",
       "    .dataframe thead th {\n",
       "        text-align: right;\n",
       "    }\n",
       "</style>\n",
       "<table border=\"1\" class=\"dataframe\">\n",
       "  <thead>\n",
       "    <tr style=\"text-align: right;\">\n",
       "      <th></th>\n",
       "      <th>datetime</th>\n",
       "      <th>season</th>\n",
       "      <th>holiday</th>\n",
       "      <th>workingday</th>\n",
       "      <th>weather</th>\n",
       "      <th>temp</th>\n",
       "      <th>atemp</th>\n",
       "      <th>humidity</th>\n",
       "      <th>windspeed</th>\n",
       "      <th>casual</th>\n",
       "      <th>registered</th>\n",
       "      <th>count</th>\n",
       "      <th>Year</th>\n",
       "      <th>Month</th>\n",
       "      <th>Day</th>\n",
       "      <th>Day Of Week</th>\n",
       "      <th>Hour</th>\n",
       "    </tr>\n",
       "  </thead>\n",
       "  <tbody>\n",
       "    <tr>\n",
       "      <th>0</th>\n",
       "      <td>2011-01-01 00:00:00</td>\n",
       "      <td>1</td>\n",
       "      <td>0</td>\n",
       "      <td>0</td>\n",
       "      <td>1</td>\n",
       "      <td>9.84</td>\n",
       "      <td>14.395</td>\n",
       "      <td>81</td>\n",
       "      <td>0.0</td>\n",
       "      <td>3</td>\n",
       "      <td>13</td>\n",
       "      <td>16</td>\n",
       "      <td>2011</td>\n",
       "      <td>1</td>\n",
       "      <td>1</td>\n",
       "      <td>5</td>\n",
       "      <td>0</td>\n",
       "    </tr>\n",
       "    <tr>\n",
       "      <th>1</th>\n",
       "      <td>2011-01-01 01:00:00</td>\n",
       "      <td>1</td>\n",
       "      <td>0</td>\n",
       "      <td>0</td>\n",
       "      <td>1</td>\n",
       "      <td>9.02</td>\n",
       "      <td>13.635</td>\n",
       "      <td>80</td>\n",
       "      <td>0.0</td>\n",
       "      <td>8</td>\n",
       "      <td>32</td>\n",
       "      <td>40</td>\n",
       "      <td>2011</td>\n",
       "      <td>1</td>\n",
       "      <td>1</td>\n",
       "      <td>5</td>\n",
       "      <td>1</td>\n",
       "    </tr>\n",
       "    <tr>\n",
       "      <th>2</th>\n",
       "      <td>2011-01-01 02:00:00</td>\n",
       "      <td>1</td>\n",
       "      <td>0</td>\n",
       "      <td>0</td>\n",
       "      <td>1</td>\n",
       "      <td>9.02</td>\n",
       "      <td>13.635</td>\n",
       "      <td>80</td>\n",
       "      <td>0.0</td>\n",
       "      <td>5</td>\n",
       "      <td>27</td>\n",
       "      <td>32</td>\n",
       "      <td>2011</td>\n",
       "      <td>1</td>\n",
       "      <td>1</td>\n",
       "      <td>5</td>\n",
       "      <td>2</td>\n",
       "    </tr>\n",
       "    <tr>\n",
       "      <th>3</th>\n",
       "      <td>2011-01-01 03:00:00</td>\n",
       "      <td>1</td>\n",
       "      <td>0</td>\n",
       "      <td>0</td>\n",
       "      <td>1</td>\n",
       "      <td>9.84</td>\n",
       "      <td>14.395</td>\n",
       "      <td>75</td>\n",
       "      <td>0.0</td>\n",
       "      <td>3</td>\n",
       "      <td>10</td>\n",
       "      <td>13</td>\n",
       "      <td>2011</td>\n",
       "      <td>1</td>\n",
       "      <td>1</td>\n",
       "      <td>5</td>\n",
       "      <td>3</td>\n",
       "    </tr>\n",
       "    <tr>\n",
       "      <th>4</th>\n",
       "      <td>2011-01-01 04:00:00</td>\n",
       "      <td>1</td>\n",
       "      <td>0</td>\n",
       "      <td>0</td>\n",
       "      <td>1</td>\n",
       "      <td>9.84</td>\n",
       "      <td>14.395</td>\n",
       "      <td>75</td>\n",
       "      <td>0.0</td>\n",
       "      <td>0</td>\n",
       "      <td>1</td>\n",
       "      <td>1</td>\n",
       "      <td>2011</td>\n",
       "      <td>1</td>\n",
       "      <td>1</td>\n",
       "      <td>5</td>\n",
       "      <td>4</td>\n",
       "    </tr>\n",
       "  </tbody>\n",
       "</table>\n",
       "</div>"
      ],
      "text/plain": [
       "             datetime  season  holiday  workingday  weather  temp   atemp  \\\n",
       "0 2011-01-01 00:00:00       1        0           0        1  9.84  14.395   \n",
       "1 2011-01-01 01:00:00       1        0           0        1  9.02  13.635   \n",
       "2 2011-01-01 02:00:00       1        0           0        1  9.02  13.635   \n",
       "3 2011-01-01 03:00:00       1        0           0        1  9.84  14.395   \n",
       "4 2011-01-01 04:00:00       1        0           0        1  9.84  14.395   \n",
       "\n",
       "   humidity  windspeed  casual  registered  count  Year  Month  Day  \\\n",
       "0        81        0.0       3          13     16  2011      1    1   \n",
       "1        80        0.0       8          32     40  2011      1    1   \n",
       "2        80        0.0       5          27     32  2011      1    1   \n",
       "3        75        0.0       3          10     13  2011      1    1   \n",
       "4        75        0.0       0           1      1  2011      1    1   \n",
       "\n",
       "   Day Of Week  Hour  \n",
       "0            5     0  \n",
       "1            5     1  \n",
       "2            5     2  \n",
       "3            5     3  \n",
       "4            5     4  "
      ]
     },
     "execution_count": 6,
     "metadata": {},
     "output_type": "execute_result"
    }
   ],
   "source": [
    "### Seperate and create new variables for year,month ,Day,Day of week ,Hour from datetime column.\n",
    "\n",
    "bike_sharing['Year'] = bike_sharing['datetime'].dt.year\n",
    "bike_sharing['Month'] = bike_sharing['datetime'].dt.month\n",
    "bike_sharing['Day'] = bike_sharing['datetime'].dt.day\n",
    "bike_sharing['Day Of Week'] = bike_sharing['datetime'].dt.dayofweek\n",
    "bike_sharing['Hour'] = bike_sharing['datetime'].dt.hour\n",
    "\n",
    "bike_sharing.head()"
   ]
  },
  {
   "cell_type": "markdown",
   "metadata": {},
   "source": [
    "We will set datetime features as index."
   ]
  },
  {
   "cell_type": "code",
   "execution_count": 7,
   "metadata": {
    "ExecuteTime": {
     "end_time": "2020-02-16T05:32:06.250226Z",
     "start_time": "2020-02-16T05:32:06.238396Z"
    }
   },
   "outputs": [
    {
     "data": {
      "text/plain": [
       "Index(['datetime', 'season', 'holiday', 'workingday', 'weather', 'temp',\n",
       "       'atemp', 'humidity', 'windspeed', 'casual', 'registered', 'count',\n",
       "       'Year', 'Month', 'Day', 'Day Of Week', 'Hour'],\n",
       "      dtype='object')"
      ]
     },
     "execution_count": 7,
     "metadata": {},
     "output_type": "execute_result"
    }
   ],
   "source": [
    "bike_sharing.columns"
   ]
  },
  {
   "cell_type": "code",
   "execution_count": 8,
   "metadata": {
    "ExecuteTime": {
     "end_time": "2020-02-16T05:32:06.268572Z",
     "start_time": "2020-02-16T05:32:06.254912Z"
    },
    "scrolled": true
   },
   "outputs": [],
   "source": [
    "## Set datetime column to index\n",
    "\n",
    "bike_sharing.set_index('datetime', inplace = True)"
   ]
  },
  {
   "cell_type": "code",
   "execution_count": 9,
   "metadata": {
    "ExecuteTime": {
     "end_time": "2020-02-16T05:32:06.296379Z",
     "start_time": "2020-02-16T05:32:06.280052Z"
    }
   },
   "outputs": [
    {
     "data": {
      "text/plain": [
       "Index(['season', 'holiday', 'workingday', 'weather', 'temp', 'atemp',\n",
       "       'humidity', 'windspeed', 'casual', 'registered', 'count', 'Year',\n",
       "       'Month', 'Day', 'Day Of Week', 'Hour'],\n",
       "      dtype='object')"
      ]
     },
     "execution_count": 9,
     "metadata": {},
     "output_type": "execute_result"
    }
   ],
   "source": [
    "bike_sharing.columns"
   ]
  },
  {
   "cell_type": "markdown",
   "metadata": {},
   "source": [
    "Let us seperate our numerical and categorical attributes."
   ]
  },
  {
   "cell_type": "code",
   "execution_count": 10,
   "metadata": {
    "ExecuteTime": {
     "end_time": "2020-02-16T05:32:06.334602Z",
     "start_time": "2020-02-16T05:32:06.317479Z"
    },
    "scrolled": true
   },
   "outputs": [
    {
     "data": {
      "text/plain": [
       "Index(['temp', 'atemp', 'humidity', 'windspeed', 'casual', 'registered',\n",
       "       'Year', 'Month', 'Day', 'Day Of Week', 'Hour'],\n",
       "      dtype='object')"
      ]
     },
     "execution_count": 10,
     "metadata": {},
     "output_type": "execute_result"
    }
   ],
   "source": [
    "# create a list for all categorical column names\n",
    "cat_cols = ['season', 'holiday', 'workingday', 'weather']\n",
    "\n",
    "# create a list for all numerical column names\n",
    "num_cols = bike_sharing.columns[~bike_sharing.columns.isin(cat_cols)]\n",
    "\n",
    "# remove target column('count')\n",
    "num_cols = num_cols.drop('count')\n",
    "\n",
    "num_cols"
   ]
  },
  {
   "cell_type": "markdown",
   "metadata": {},
   "source": [
    "We will convert all categorical variable to category type."
   ]
  },
  {
   "cell_type": "code",
   "execution_count": 11,
   "metadata": {
    "ExecuteTime": {
     "end_time": "2020-02-16T05:32:06.386379Z",
     "start_time": "2020-02-16T05:32:06.338848Z"
    },
    "scrolled": true
   },
   "outputs": [],
   "source": [
    "### Apply Type conversion \n",
    "\n",
    "\n",
    "bike_sharing[cat_cols] = bike_sharing[cat_cols].apply(lambda x : x.astype('category'))"
   ]
  },
  {
   "cell_type": "markdown",
   "metadata": {},
   "source": [
    "We will check there are no invalid values in any of the categorical variables."
   ]
  },
  {
   "cell_type": "code",
   "execution_count": 12,
   "metadata": {
    "ExecuteTime": {
     "end_time": "2020-02-16T05:32:06.413201Z",
     "start_time": "2020-02-16T05:32:06.393188Z"
    },
    "scrolled": true
   },
   "outputs": [
    {
     "name": "stdout",
     "output_type": "stream",
     "text": [
      "season ----->> [1, 2, 3, 4]\n",
      "Categories (4, int64): [1, 2, 3, 4] \n",
      "\n",
      "holiday ----->> [0, 1]\n",
      "Categories (2, int64): [0, 1] \n",
      "\n",
      "workingday ----->> [0, 1]\n",
      "Categories (2, int64): [0, 1] \n",
      "\n",
      "weather ----->> [1, 2, 3, 4]\n",
      "Categories (4, int64): [1, 2, 3, 4] \n",
      "\n"
     ]
    }
   ],
   "source": [
    "### Check unique values of each categorical column\n",
    "\n",
    "for x in cat_cols :\n",
    "    print(x, '----->>', bike_sharing[x].unique(), '\\n')"
   ]
  },
  {
   "cell_type": "markdown",
   "metadata": {},
   "source": [
    "There are no invalid values.\n",
    "\n",
    "Let us check numerical data as well."
   ]
  },
  {
   "cell_type": "code",
   "execution_count": 13,
   "metadata": {
    "ExecuteTime": {
     "end_time": "2020-02-16T05:32:06.491235Z",
     "start_time": "2020-02-16T05:32:06.415674Z"
    },
    "scrolled": true
   },
   "outputs": [
    {
     "data": {
      "text/html": [
       "<div>\n",
       "<style scoped>\n",
       "    .dataframe tbody tr th:only-of-type {\n",
       "        vertical-align: middle;\n",
       "    }\n",
       "\n",
       "    .dataframe tbody tr th {\n",
       "        vertical-align: top;\n",
       "    }\n",
       "\n",
       "    .dataframe thead th {\n",
       "        text-align: right;\n",
       "    }\n",
       "</style>\n",
       "<table border=\"1\" class=\"dataframe\">\n",
       "  <thead>\n",
       "    <tr style=\"text-align: right;\">\n",
       "      <th></th>\n",
       "      <th>temp</th>\n",
       "      <th>atemp</th>\n",
       "      <th>humidity</th>\n",
       "      <th>windspeed</th>\n",
       "      <th>casual</th>\n",
       "      <th>registered</th>\n",
       "      <th>Year</th>\n",
       "      <th>Month</th>\n",
       "      <th>Day</th>\n",
       "      <th>Day Of Week</th>\n",
       "      <th>Hour</th>\n",
       "    </tr>\n",
       "  </thead>\n",
       "  <tbody>\n",
       "    <tr>\n",
       "      <th>count</th>\n",
       "      <td>10886.00000</td>\n",
       "      <td>10886.000000</td>\n",
       "      <td>10886.000000</td>\n",
       "      <td>10886.000000</td>\n",
       "      <td>10886.000000</td>\n",
       "      <td>10886.000000</td>\n",
       "      <td>10886.000000</td>\n",
       "      <td>10886.000000</td>\n",
       "      <td>10886.000000</td>\n",
       "      <td>10886.000000</td>\n",
       "      <td>10886.000000</td>\n",
       "    </tr>\n",
       "    <tr>\n",
       "      <th>mean</th>\n",
       "      <td>20.23086</td>\n",
       "      <td>23.655084</td>\n",
       "      <td>61.886460</td>\n",
       "      <td>12.799395</td>\n",
       "      <td>36.021955</td>\n",
       "      <td>155.552177</td>\n",
       "      <td>2011.501929</td>\n",
       "      <td>6.521495</td>\n",
       "      <td>9.992559</td>\n",
       "      <td>3.013963</td>\n",
       "      <td>11.541613</td>\n",
       "    </tr>\n",
       "    <tr>\n",
       "      <th>std</th>\n",
       "      <td>7.79159</td>\n",
       "      <td>8.474601</td>\n",
       "      <td>19.245033</td>\n",
       "      <td>8.164537</td>\n",
       "      <td>49.960477</td>\n",
       "      <td>151.039033</td>\n",
       "      <td>0.500019</td>\n",
       "      <td>3.444373</td>\n",
       "      <td>5.476608</td>\n",
       "      <td>2.004585</td>\n",
       "      <td>6.915838</td>\n",
       "    </tr>\n",
       "    <tr>\n",
       "      <th>min</th>\n",
       "      <td>0.82000</td>\n",
       "      <td>0.760000</td>\n",
       "      <td>0.000000</td>\n",
       "      <td>0.000000</td>\n",
       "      <td>0.000000</td>\n",
       "      <td>0.000000</td>\n",
       "      <td>2011.000000</td>\n",
       "      <td>1.000000</td>\n",
       "      <td>1.000000</td>\n",
       "      <td>0.000000</td>\n",
       "      <td>0.000000</td>\n",
       "    </tr>\n",
       "    <tr>\n",
       "      <th>25%</th>\n",
       "      <td>13.94000</td>\n",
       "      <td>16.665000</td>\n",
       "      <td>47.000000</td>\n",
       "      <td>7.001500</td>\n",
       "      <td>4.000000</td>\n",
       "      <td>36.000000</td>\n",
       "      <td>2011.000000</td>\n",
       "      <td>4.000000</td>\n",
       "      <td>5.000000</td>\n",
       "      <td>1.000000</td>\n",
       "      <td>6.000000</td>\n",
       "    </tr>\n",
       "    <tr>\n",
       "      <th>50%</th>\n",
       "      <td>20.50000</td>\n",
       "      <td>24.240000</td>\n",
       "      <td>62.000000</td>\n",
       "      <td>12.998000</td>\n",
       "      <td>17.000000</td>\n",
       "      <td>118.000000</td>\n",
       "      <td>2012.000000</td>\n",
       "      <td>7.000000</td>\n",
       "      <td>10.000000</td>\n",
       "      <td>3.000000</td>\n",
       "      <td>12.000000</td>\n",
       "    </tr>\n",
       "    <tr>\n",
       "      <th>75%</th>\n",
       "      <td>26.24000</td>\n",
       "      <td>31.060000</td>\n",
       "      <td>77.000000</td>\n",
       "      <td>16.997900</td>\n",
       "      <td>49.000000</td>\n",
       "      <td>222.000000</td>\n",
       "      <td>2012.000000</td>\n",
       "      <td>10.000000</td>\n",
       "      <td>15.000000</td>\n",
       "      <td>5.000000</td>\n",
       "      <td>18.000000</td>\n",
       "    </tr>\n",
       "    <tr>\n",
       "      <th>max</th>\n",
       "      <td>41.00000</td>\n",
       "      <td>45.455000</td>\n",
       "      <td>100.000000</td>\n",
       "      <td>56.996900</td>\n",
       "      <td>367.000000</td>\n",
       "      <td>886.000000</td>\n",
       "      <td>2012.000000</td>\n",
       "      <td>12.000000</td>\n",
       "      <td>19.000000</td>\n",
       "      <td>6.000000</td>\n",
       "      <td>23.000000</td>\n",
       "    </tr>\n",
       "  </tbody>\n",
       "</table>\n",
       "</div>"
      ],
      "text/plain": [
       "              temp         atemp      humidity     windspeed        casual  \\\n",
       "count  10886.00000  10886.000000  10886.000000  10886.000000  10886.000000   \n",
       "mean      20.23086     23.655084     61.886460     12.799395     36.021955   \n",
       "std        7.79159      8.474601     19.245033      8.164537     49.960477   \n",
       "min        0.82000      0.760000      0.000000      0.000000      0.000000   \n",
       "25%       13.94000     16.665000     47.000000      7.001500      4.000000   \n",
       "50%       20.50000     24.240000     62.000000     12.998000     17.000000   \n",
       "75%       26.24000     31.060000     77.000000     16.997900     49.000000   \n",
       "max       41.00000     45.455000    100.000000     56.996900    367.000000   \n",
       "\n",
       "         registered          Year         Month           Day   Day Of Week  \\\n",
       "count  10886.000000  10886.000000  10886.000000  10886.000000  10886.000000   \n",
       "mean     155.552177   2011.501929      6.521495      9.992559      3.013963   \n",
       "std      151.039033      0.500019      3.444373      5.476608      2.004585   \n",
       "min        0.000000   2011.000000      1.000000      1.000000      0.000000   \n",
       "25%       36.000000   2011.000000      4.000000      5.000000      1.000000   \n",
       "50%      118.000000   2012.000000      7.000000     10.000000      3.000000   \n",
       "75%      222.000000   2012.000000     10.000000     15.000000      5.000000   \n",
       "max      886.000000   2012.000000     12.000000     19.000000      6.000000   \n",
       "\n",
       "               Hour  \n",
       "count  10886.000000  \n",
       "mean      11.541613  \n",
       "std        6.915838  \n",
       "min        0.000000  \n",
       "25%        6.000000  \n",
       "50%       12.000000  \n",
       "75%       18.000000  \n",
       "max       23.000000  "
      ]
     },
     "execution_count": 13,
     "metadata": {},
     "output_type": "execute_result"
    }
   ],
   "source": [
    "#numeric data\n",
    "\n",
    "bike_sharing[num_cols].describe()"
   ]
  },
  {
   "cell_type": "code",
   "execution_count": 14,
   "metadata": {
    "ExecuteTime": {
     "end_time": "2020-02-16T05:32:06.510865Z",
     "start_time": "2020-02-16T05:32:06.494257Z"
    }
   },
   "outputs": [
    {
     "data": {
      "text/plain": [
       "season         0\n",
       "holiday        0\n",
       "workingday     0\n",
       "weather        0\n",
       "temp           0\n",
       "atemp          0\n",
       "humidity       0\n",
       "windspeed      0\n",
       "casual         0\n",
       "registered     0\n",
       "count          0\n",
       "Year           0\n",
       "Month          0\n",
       "Day            0\n",
       "Day Of Week    0\n",
       "Hour           0\n",
       "dtype: int64"
      ]
     },
     "execution_count": 14,
     "metadata": {},
     "output_type": "execute_result"
    }
   ],
   "source": [
    "## Check missing values\n",
    "\n",
    "bike_sharing.isnull().sum()"
   ]
  },
  {
   "cell_type": "markdown",
   "metadata": {},
   "source": [
    "> The data looks clean. There are no NA values as count for all is equal to number of rows."
   ]
  },
  {
   "cell_type": "markdown",
   "metadata": {},
   "source": [
    "# Model Building\n",
    "\n",
    "___\n",
    "\n",
    "We will seperate our independent variables and target variable."
   ]
  },
  {
   "cell_type": "code",
   "execution_count": 15,
   "metadata": {
    "ExecuteTime": {
     "end_time": "2020-02-16T05:32:06.532918Z",
     "start_time": "2020-02-16T05:32:06.513589Z"
    },
    "scrolled": true
   },
   "outputs": [],
   "source": [
    "# independent variables\n",
    "X = bike_sharing.drop('count', axis = 1)\n",
    "\n",
    "# dependent variable\n",
    "y = bike_sharing['count']"
   ]
  },
  {
   "cell_type": "markdown",
   "metadata": {},
   "source": [
    "### Function to prepare data\n",
    "\n",
    "We will write a function to prepare data for following functions.\n",
    "\n",
    "- Train and Test Split"
   ]
  },
  {
   "cell_type": "code",
   "execution_count": 16,
   "metadata": {
    "ExecuteTime": {
     "end_time": "2020-02-16T10:49:11.641605Z",
     "start_time": "2020-02-16T10:49:11.631953Z"
    },
    "scrolled": true
   },
   "outputs": [],
   "source": [
    "from sklearn.model_selection import train_test_split\n",
    "from sklearn.preprocessing import StandardScaler\n",
    "\n",
    "num_scaler = StandardScaler()\n",
    "\n",
    "def prepare_data(X, y, split_size = 0.3) :\n",
    "    \n",
    "    \n",
    "    ## train test split\n",
    "    X_train, X_test, y_train, y_test = train_test_split(X, y,\n",
    "                                                        test_size = split_size)  \n",
    "    \n",
    "    ## fit num_scaler\n",
    "    num_scaler.fit(X_train[num_cols])\n",
    "    \n",
    "    print(X_train.shape)\n",
    "    print(X_test.shape)\n",
    "    \n",
    "    return X_train, X_test, y_train, y_test"
   ]
  },
  {
   "cell_type": "markdown",
   "metadata": {},
   "source": [
    "### Function to pre-process data\n",
    "\n",
    "We will write a function to pre-process data for following functions. This function will be called to transform both train and test datasets.\n",
    "\n",
    "- Scale the numeric features\n",
    "- Dummify the categorical features"
   ]
  },
  {
   "cell_type": "code",
   "execution_count": 17,
   "metadata": {
    "ExecuteTime": {
     "end_time": "2020-02-16T05:32:09.136671Z",
     "start_time": "2020-02-16T05:32:09.129331Z"
    },
    "scrolled": true
   },
   "outputs": [],
   "source": [
    "def preprocess_data(data, scale = False) :\n",
    "    \n",
    "    # scale numeric features\n",
    "    if scale == True :\n",
    "        #tranform numeric data using num_scaler\n",
    "        data[num_cols] = num_scaler.transform(data[num_cols])\n",
    "    \n",
    "    # dummify categorical features\n",
    "    \n",
    "    data = pd.get_dummies(data, drop_first = False)\n",
    "\n",
    "    return data"
   ]
  },
  {
   "cell_type": "markdown",
   "metadata": {},
   "source": [
    "### Function for Model Fit & Predict\n",
    "\n",
    "We will write a function for following functions. \n",
    "\n",
    "- Fit the model on train data\n",
    "- Perform cross-validation when needed\n",
    "- Predict on train and test data"
   ]
  },
  {
   "cell_type": "code",
   "execution_count": 18,
   "metadata": {
    "ExecuteTime": {
     "end_time": "2020-02-16T05:32:09.150458Z",
     "start_time": "2020-02-16T05:32:09.142018Z"
    },
    "scrolled": true
   },
   "outputs": [],
   "source": [
    "from sklearn.model_selection import GridSearchCV\n",
    "\n",
    "def model_building(X, y, test, model, params = None, k = 1) :\n",
    "    \n",
    "    if params == None :\n",
    "        \n",
    "        ## Fit model \n",
    "        model.fit(X, y)\n",
    "        \n",
    "        # return fitted model & train-test predictions\n",
    "        return (model, model.predict(X), model.predict(test))\n",
    "    \n",
    "    else :\n",
    "        \n",
    "        model_cv = GridSearchCV(model, param_grid = params, cv = k)\n",
    "        \n",
    "        ## Fit model_cv using \n",
    "        model_cv.fit(X, y)\n",
    "        \n",
    "        ## check best estimator \n",
    "        model = model_cv.best_estimator_\n",
    "        \n",
    "        print(model_cv.best_estimator_)\n",
    "        \n",
    "        # return and extra object for all cross validation operations\n",
    "        \n",
    "        return (model_cv, model, model.predict(X), model.predict(test))\n",
    "    "
   ]
  },
  {
   "cell_type": "markdown",
   "metadata": {},
   "source": [
    "### Function to Evaluate Model"
   ]
  },
  {
   "cell_type": "code",
   "execution_count": 19,
   "metadata": {
    "ExecuteTime": {
     "end_time": "2020-02-16T05:32:09.162504Z",
     "start_time": "2020-02-16T05:32:09.154483Z"
    },
    "scrolled": true
   },
   "outputs": [],
   "source": [
    "from sklearn.metrics import mean_absolute_error, mean_squared_error\n",
    "\n",
    "def model_evaluation(y_train, pred_train, y_test, pred_test) :\n",
    "    \n",
    "    print('''\n",
    "            =========================================\n",
    "               MAE and MSE FOR TRAIN DATA\n",
    "            =========================================''')\n",
    "    print(\"Mean Absolute Error : \", mean_absolute_error(y_train, pred_train), \n",
    "          \"\\nMean Squared Error : \", mean_squared_error(y_train, pred_train))\n",
    "    \n",
    "    print('''\n",
    "            =========================================\n",
    "               MAE and MSE FOR TEST DATA\n",
    "            =========================================''')\n",
    "    print(\"Mean Absolute Error : \", mean_absolute_error(y_test, pred_test), \n",
    "          \"\\nMean Squared Error : \", mean_squared_error(y_test, pred_test))"
   ]
  },
  {
   "cell_type": "markdown",
   "metadata": {},
   "source": [
    "# Model Building\n",
    "\n",
    "___\n",
    "\n",
    "\n",
    "### Let us build a [Support Vector Regressor](https://scikit-learn.org/stable/modules/generated/sklearn.svm.SVR.html)\n",
    "\n",
    "Call the train test split function"
   ]
  },
  {
   "cell_type": "code",
   "execution_count": 20,
   "metadata": {
    "ExecuteTime": {
     "end_time": "2020-02-16T05:32:09.190272Z",
     "start_time": "2020-02-16T05:32:09.165687Z"
    },
    "scrolled": true
   },
   "outputs": [
    {
     "name": "stdout",
     "output_type": "stream",
     "text": [
      "(8708, 15)\n",
      "(2178, 15)\n"
     ]
    }
   ],
   "source": [
    "## Use prepare_data and get X_train, X_test, y_train, y_test where split size = 0.2\n",
    "\n",
    "X_train, X_test, y_train, y_test = prepare_data(X, y, 0.2)\n",
    "\n"
   ]
  },
  {
   "cell_type": "markdown",
   "metadata": {},
   "source": [
    "Build SVM Model without scaling"
   ]
  },
  {
   "cell_type": "code",
   "execution_count": 21,
   "metadata": {
    "ExecuteTime": {
     "end_time": "2020-02-16T05:32:17.716456Z",
     "start_time": "2020-02-16T05:32:09.192725Z"
    },
    "scrolled": true
   },
   "outputs": [
    {
     "name": "stdout",
     "output_type": "stream",
     "text": [
      "\n",
      "            =========================================\n",
      "               MAE and MSE FOR TRAIN DATA\n",
      "            =========================================\n",
      "Mean Absolute Error :  81.82331204672703 \n",
      "Mean Squared Error :  12593.867470420071\n",
      "\n",
      "            =========================================\n",
      "               MAE and MSE FOR TEST DATA\n",
      "            =========================================\n",
      "Mean Absolute Error :  82.82599371633397 \n",
      "Mean Squared Error :  12806.120227457975\n"
     ]
    }
   ],
   "source": [
    "from sklearn.svm import SVR\n",
    "\n",
    "\n",
    "# Call the pre-process function for both train and test data.\n",
    "X_train_nsc = preprocess_data(X_train)\n",
    "X_test_nsc = preprocess_data(X_test)\n",
    "\n",
    "# Call the model building function\n",
    "model, pred_train, pred_test = model_building(X_train_nsc, y_train,\n",
    "                                              X_test_nsc, SVR())\n",
    "\n",
    "# Call the model evaluation function for both train and test data to view model performance\n",
    "model_evaluation(y_train, pred_train, y_test, pred_test)"
   ]
  },
  {
   "cell_type": "markdown",
   "metadata": {},
   "source": [
    "Build SVM Model with scaling"
   ]
  },
  {
   "cell_type": "code",
   "execution_count": 22,
   "metadata": {
    "ExecuteTime": {
     "end_time": "2020-02-16T05:32:25.637426Z",
     "start_time": "2020-02-16T05:32:17.718869Z"
    },
    "scrolled": false
   },
   "outputs": [
    {
     "name": "stdout",
     "output_type": "stream",
     "text": [
      "\n",
      "            =========================================\n",
      "               MAE and MSE FOR TRAIN DATA\n",
      "            =========================================\n",
      "Mean Absolute Error :  30.636437775236402 \n",
      "Mean Squared Error :  3868.603004733329\n",
      "\n",
      "            =========================================\n",
      "               MAE and MSE FOR TEST DATA\n",
      "            =========================================\n",
      "Mean Absolute Error :  31.144750564339866 \n",
      "Mean Squared Error :  3883.0530287593747\n"
     ]
    }
   ],
   "source": [
    "# Call the pre-process function for both train and test data.\n",
    "X_train = preprocess_data(X_train,scale= True)\n",
    "X_test = preprocess_data(X_test,scale= True)\n",
    "\n",
    "# Call the model building function\n",
    "model, pred_train, pred_test = model_building(X_train, y_train,\n",
    "                                              X_test, SVR())\n",
    "\n",
    "# Call the model evaluation function for both train and test data to view model performance\n",
    "model_evaluation(y_train, pred_train, y_test, pred_test)"
   ]
  },
  {
   "cell_type": "markdown",
   "metadata": {},
   "source": [
    "We can see the model performance improves drastically by standardising the numerical data.\n",
    "\n",
    "Let us tune parameters to build non-linear models."
   ]
  },
  {
   "cell_type": "markdown",
   "metadata": {},
   "source": [
    "#### Parameter Tuning in SVM"
   ]
  },
  {
   "cell_type": "markdown",
   "metadata": {},
   "source": [
    "**C parameter** is a regularization parameter that controls the trade off between the achieving a low training error and a low testing error that is the ability to generalize your classifier to unseen data. \n",
    "\n",
    "The C parameter trades off misclassification of training examples against simplicity of the decision surface. A low C makes the decision surface smooth, while a high C aims at classifying all training examples correctly by giving the model freedom to select more samples as support vectors.\n",
    "\n",
    "\n",
    "\n",
    "**Gamma** is the parameter of a RBF Kernel (to handle non-linear classification).\n",
    "\n",
    "> 𝑘(𝑥𝑛,𝑥𝑚)=𝑒𝑥𝑝(−𝛾||𝑥𝑛−𝑥𝑚||^2)\n",
    "\n",
    "\n",
    ">gamma =1 / (2*sigma ^2)\n",
    "\n",
    "\n",
    "Intuitively, the gamma parameter defines how far the influence of a single training example reaches, with low values meaning ‘far’ and high values meaning ‘close’. The gamma parameters can be seen as the inverse of the radius of influence of samples selected by the model as support vectors."
   ]
  },
  {
   "cell_type": "code",
   "execution_count": 23,
   "metadata": {
    "ExecuteTime": {
     "end_time": "2020-02-16T05:34:07.621673Z",
     "start_time": "2020-02-16T05:32:25.640422Z"
    },
    "scrolled": true
   },
   "outputs": [
    {
     "name": "stdout",
     "output_type": "stream",
     "text": [
      "SVR(C=0.1, cache_size=200, coef0=0.0, degree=3, epsilon=0.1, gamma='scale',\n",
      "    kernel='poly', max_iter=-1, shrinking=True, tol=0.001, verbose=False)\n",
      "\n",
      "            =========================================\n",
      "               MAE and MSE FOR TRAIN DATA\n",
      "            =========================================\n",
      "Mean Absolute Error :  100.38608331916744 \n",
      "Mean Squared Error :  18552.62865022805\n",
      "\n",
      "            =========================================\n",
      "               MAE and MSE FOR TEST DATA\n",
      "            =========================================\n",
      "Mean Absolute Error :  102.28883427672325 \n",
      "Mean Squared Error :  19355.336189968562\n"
     ]
    }
   ],
   "source": [
    "parameters = {'C' : [0.01,0.1], \n",
    "              'degree' : [2, 3],\n",
    "              'kernel' : ['poly']}\n",
    "\n",
    "# Call the model building function\n",
    "model_cv, model, pred_train, pred_test = model_building(X_train, y_train, X_test, SVR(), parameters, 10)\n",
    "\n",
    "# Call the model evaluation function for both train and test data to view model performance\n",
    "model_evaluation(y_train, pred_train, y_test, pred_test)"
   ]
  },
  {
   "cell_type": "code",
   "execution_count": 24,
   "metadata": {
    "ExecuteTime": {
     "end_time": "2020-02-16T05:35:30.540061Z",
     "start_time": "2020-02-16T05:34:07.627220Z"
    },
    "scrolled": true
   },
   "outputs": [
    {
     "name": "stdout",
     "output_type": "stream",
     "text": [
      "SVR(C=0.1, cache_size=200, coef0=0.0, degree=3, epsilon=0.1, gamma=0.01,\n",
      "    kernel='rbf', max_iter=-1, shrinking=True, tol=0.001, verbose=False)\n",
      "\n",
      "            =========================================\n",
      "               MAE and MSE FOR TRAIN DATA\n",
      "            =========================================\n",
      "Mean Absolute Error :  118.85946103552257 \n",
      "Mean Squared Error :  27641.34767899835\n",
      "\n",
      "            =========================================\n",
      "               MAE and MSE FOR TEST DATA\n",
      "            =========================================\n",
      "Mean Absolute Error :  120.88827563275152 \n",
      "Mean Squared Error :  28348.932585372015\n"
     ]
    }
   ],
   "source": [
    "parameters = {'C' : [0.01, 0.1], \n",
    "              'gamma' : [0.01], \n",
    "              'kernel' : ['rbf']}\n",
    "\n",
    "# Call the model building function\n",
    "model_cv, model, pred_train, pred_test = model_building(X_train, y_train, X_test, SVR(), parameters, 10)\n",
    "\n",
    "# Call the model evaluation function for both train and test data to view model performance\n",
    "model_evaluation(y_train, pred_train, y_test, pred_test)"
   ]
  },
  {
   "cell_type": "markdown",
   "metadata": {},
   "source": [
    "Model performance deteriotes in higher dimension. This is an indication that data is linearly disrtibuted.\n",
    "\n",
    "# Stacking\n",
    "\n",
    "___\n",
    "\n",
    "Let us build some more models and stack their outputs.\n",
    "\n",
    "- Linear Regression\n",
    "- Knn\n",
    "- Decision Tree"
   ]
  },
  {
   "cell_type": "code",
   "execution_count": 25,
   "metadata": {
    "ExecuteTime": {
     "end_time": "2020-02-16T11:22:04.649187Z",
     "start_time": "2020-02-16T11:22:04.622881Z"
    }
   },
   "outputs": [
    {
     "data": {
      "text/html": [
       "<div>\n",
       "<style scoped>\n",
       "    .dataframe tbody tr th:only-of-type {\n",
       "        vertical-align: middle;\n",
       "    }\n",
       "\n",
       "    .dataframe tbody tr th {\n",
       "        vertical-align: top;\n",
       "    }\n",
       "\n",
       "    .dataframe thead th {\n",
       "        text-align: right;\n",
       "    }\n",
       "</style>\n",
       "<table border=\"1\" class=\"dataframe\">\n",
       "  <thead>\n",
       "    <tr style=\"text-align: right;\">\n",
       "      <th></th>\n",
       "      <th>season</th>\n",
       "      <th>holiday</th>\n",
       "      <th>workingday</th>\n",
       "      <th>weather</th>\n",
       "      <th>temp</th>\n",
       "      <th>atemp</th>\n",
       "      <th>humidity</th>\n",
       "      <th>windspeed</th>\n",
       "      <th>casual</th>\n",
       "      <th>registered</th>\n",
       "      <th>count</th>\n",
       "      <th>Year</th>\n",
       "      <th>Month</th>\n",
       "      <th>Day</th>\n",
       "      <th>Day Of Week</th>\n",
       "      <th>Hour</th>\n",
       "    </tr>\n",
       "    <tr>\n",
       "      <th>datetime</th>\n",
       "      <th></th>\n",
       "      <th></th>\n",
       "      <th></th>\n",
       "      <th></th>\n",
       "      <th></th>\n",
       "      <th></th>\n",
       "      <th></th>\n",
       "      <th></th>\n",
       "      <th></th>\n",
       "      <th></th>\n",
       "      <th></th>\n",
       "      <th></th>\n",
       "      <th></th>\n",
       "      <th></th>\n",
       "      <th></th>\n",
       "      <th></th>\n",
       "    </tr>\n",
       "  </thead>\n",
       "  <tbody>\n",
       "    <tr>\n",
       "      <th>2011-01-01 00:00:00</th>\n",
       "      <td>1</td>\n",
       "      <td>0</td>\n",
       "      <td>0</td>\n",
       "      <td>1</td>\n",
       "      <td>9.84</td>\n",
       "      <td>14.395</td>\n",
       "      <td>81</td>\n",
       "      <td>0.0</td>\n",
       "      <td>3</td>\n",
       "      <td>13</td>\n",
       "      <td>16</td>\n",
       "      <td>2011</td>\n",
       "      <td>1</td>\n",
       "      <td>1</td>\n",
       "      <td>5</td>\n",
       "      <td>0</td>\n",
       "    </tr>\n",
       "    <tr>\n",
       "      <th>2011-01-01 01:00:00</th>\n",
       "      <td>1</td>\n",
       "      <td>0</td>\n",
       "      <td>0</td>\n",
       "      <td>1</td>\n",
       "      <td>9.02</td>\n",
       "      <td>13.635</td>\n",
       "      <td>80</td>\n",
       "      <td>0.0</td>\n",
       "      <td>8</td>\n",
       "      <td>32</td>\n",
       "      <td>40</td>\n",
       "      <td>2011</td>\n",
       "      <td>1</td>\n",
       "      <td>1</td>\n",
       "      <td>5</td>\n",
       "      <td>1</td>\n",
       "    </tr>\n",
       "    <tr>\n",
       "      <th>2011-01-01 02:00:00</th>\n",
       "      <td>1</td>\n",
       "      <td>0</td>\n",
       "      <td>0</td>\n",
       "      <td>1</td>\n",
       "      <td>9.02</td>\n",
       "      <td>13.635</td>\n",
       "      <td>80</td>\n",
       "      <td>0.0</td>\n",
       "      <td>5</td>\n",
       "      <td>27</td>\n",
       "      <td>32</td>\n",
       "      <td>2011</td>\n",
       "      <td>1</td>\n",
       "      <td>1</td>\n",
       "      <td>5</td>\n",
       "      <td>2</td>\n",
       "    </tr>\n",
       "    <tr>\n",
       "      <th>2011-01-01 03:00:00</th>\n",
       "      <td>1</td>\n",
       "      <td>0</td>\n",
       "      <td>0</td>\n",
       "      <td>1</td>\n",
       "      <td>9.84</td>\n",
       "      <td>14.395</td>\n",
       "      <td>75</td>\n",
       "      <td>0.0</td>\n",
       "      <td>3</td>\n",
       "      <td>10</td>\n",
       "      <td>13</td>\n",
       "      <td>2011</td>\n",
       "      <td>1</td>\n",
       "      <td>1</td>\n",
       "      <td>5</td>\n",
       "      <td>3</td>\n",
       "    </tr>\n",
       "    <tr>\n",
       "      <th>2011-01-01 04:00:00</th>\n",
       "      <td>1</td>\n",
       "      <td>0</td>\n",
       "      <td>0</td>\n",
       "      <td>1</td>\n",
       "      <td>9.84</td>\n",
       "      <td>14.395</td>\n",
       "      <td>75</td>\n",
       "      <td>0.0</td>\n",
       "      <td>0</td>\n",
       "      <td>1</td>\n",
       "      <td>1</td>\n",
       "      <td>2011</td>\n",
       "      <td>1</td>\n",
       "      <td>1</td>\n",
       "      <td>5</td>\n",
       "      <td>4</td>\n",
       "    </tr>\n",
       "  </tbody>\n",
       "</table>\n",
       "</div>"
      ],
      "text/plain": [
       "                    season holiday workingday weather  temp   atemp  humidity  \\\n",
       "datetime                                                                        \n",
       "2011-01-01 00:00:00      1       0          0       1  9.84  14.395        81   \n",
       "2011-01-01 01:00:00      1       0          0       1  9.02  13.635        80   \n",
       "2011-01-01 02:00:00      1       0          0       1  9.02  13.635        80   \n",
       "2011-01-01 03:00:00      1       0          0       1  9.84  14.395        75   \n",
       "2011-01-01 04:00:00      1       0          0       1  9.84  14.395        75   \n",
       "\n",
       "                     windspeed  casual  registered  count  Year  Month  Day  \\\n",
       "datetime                                                                      \n",
       "2011-01-01 00:00:00        0.0       3          13     16  2011      1    1   \n",
       "2011-01-01 01:00:00        0.0       8          32     40  2011      1    1   \n",
       "2011-01-01 02:00:00        0.0       5          27     32  2011      1    1   \n",
       "2011-01-01 03:00:00        0.0       3          10     13  2011      1    1   \n",
       "2011-01-01 04:00:00        0.0       0           1      1  2011      1    1   \n",
       "\n",
       "                     Day Of Week  Hour  \n",
       "datetime                                \n",
       "2011-01-01 00:00:00            5     0  \n",
       "2011-01-01 01:00:00            5     1  \n",
       "2011-01-01 02:00:00            5     2  \n",
       "2011-01-01 03:00:00            5     3  \n",
       "2011-01-01 04:00:00            5     4  "
      ]
     },
     "execution_count": 25,
     "metadata": {},
     "output_type": "execute_result"
    }
   ],
   "source": [
    "bike_sharing.head()"
   ]
  },
  {
   "cell_type": "code",
   "execution_count": 26,
   "metadata": {
    "ExecuteTime": {
     "end_time": "2020-02-16T05:35:30.639493Z",
     "start_time": "2020-02-16T05:35:30.543005Z"
    },
    "scrolled": true
   },
   "outputs": [],
   "source": [
    "from sklearn.linear_model import LinearRegression, ElasticNet\n",
    "from sklearn.neighbors import KNeighborsRegressor\n"
   ]
  },
  {
   "cell_type": "markdown",
   "metadata": {},
   "source": [
    "In case you have not noticed yet, this dataset has casual users count and registered users count which adds up to give our target feature count.  \n",
    "`count = casual + registered`\n",
    "\n",
    "We can build a simple linear model with only these two features and see the results."
   ]
  },
  {
   "cell_type": "code",
   "execution_count": 27,
   "metadata": {
    "ExecuteTime": {
     "end_time": "2020-02-16T05:35:30.670365Z",
     "start_time": "2020-02-16T05:35:30.642837Z"
    },
    "scrolled": true
   },
   "outputs": [
    {
     "name": "stdout",
     "output_type": "stream",
     "text": [
      "\n",
      "            =========================================\n",
      "               MAE and MSE FOR TRAIN DATA\n",
      "            =========================================\n",
      "Mean Absolute Error :  3.4323536714317443e-14 \n",
      "Mean Squared Error :  3.246857249261681e-27\n",
      "\n",
      "            =========================================\n",
      "               MAE and MSE FOR TEST DATA\n",
      "            =========================================\n",
      "Mean Absolute Error :  3.650401071104984e-14 \n",
      "Mean Squared Error :  3.704599378895989e-27\n"
     ]
    }
   ],
   "source": [
    "# linear model\n",
    "X_train_cr = X_train_nsc[['casual', 'registered']]\n",
    "X_test_cr = X_test_nsc[['casual', 'registered']]\n",
    "\n",
    "model_cr, pred_train_cr, pred_test_cr = model_building(X_train_cr, y_train, X_test_cr,\n",
    "                                                       LinearRegression())\n",
    "\n",
    "model_evaluation(y_train, pred_train_cr, y_test, pred_test_cr)"
   ]
  },
  {
   "cell_type": "code",
   "execution_count": 28,
   "metadata": {
    "ExecuteTime": {
     "end_time": "2020-02-16T05:35:30.677060Z",
     "start_time": "2020-02-16T05:35:30.672216Z"
    },
    "scrolled": true
   },
   "outputs": [
    {
     "data": {
      "text/plain": [
       "array([1., 1.])"
      ]
     },
     "execution_count": 28,
     "metadata": {},
     "output_type": "execute_result"
    }
   ],
   "source": [
    "model_cr.coef_"
   ]
  },
  {
   "cell_type": "markdown",
   "metadata": {},
   "source": [
    "As we can see we get the coefficient as 1. This means `1*casual + 1*registered = count` which is what we expected.\n",
    "\n",
    "We will remove one of these features and train various models."
   ]
  },
  {
   "cell_type": "code",
   "execution_count": 29,
   "metadata": {
    "ExecuteTime": {
     "end_time": "2020-02-16T05:35:30.718321Z",
     "start_time": "2020-02-16T05:35:30.679857Z"
    },
    "scrolled": true
   },
   "outputs": [],
   "source": [
    "X_ncr = X.drop(['casual'], axis=1)\n",
    "\n",
    "X_train_ncr, X_test_ncr, y_train, y_test = train_test_split(X_ncr, y, test_size = 0.4)\n",
    "\n",
    "X_train_ncr = preprocess_data(X_train_ncr)\n",
    "X_test_ncr = preprocess_data(X_test_ncr)"
   ]
  },
  {
   "cell_type": "code",
   "execution_count": 30,
   "metadata": {
    "ExecuteTime": {
     "end_time": "2020-02-16T05:35:30.741914Z",
     "start_time": "2020-02-16T05:35:30.720395Z"
    },
    "scrolled": false
   },
   "outputs": [
    {
     "name": "stdout",
     "output_type": "stream",
     "text": [
      "\n",
      "            =========================================\n",
      "               MAE and MSE FOR TRAIN DATA\n",
      "            =========================================\n",
      "Mean Absolute Error :  23.049990663086493 \n",
      "Mean Squared Error :  1115.1933149054435\n",
      "\n",
      "            =========================================\n",
      "               MAE and MSE FOR TEST DATA\n",
      "            =========================================\n",
      "Mean Absolute Error :  22.36155336819624 \n",
      "Mean Squared Error :  1091.162388753879\n"
     ]
    }
   ],
   "source": [
    "# linear model\n",
    "model_lr, pred_train_lr, pred_test_lr = model_building(X_train_ncr, y_train, X_test_ncr,\n",
    "                                                       LinearRegression())\n",
    "\n",
    "model_evaluation(y_train, pred_train_lr, y_test, pred_test_lr)"
   ]
  },
  {
   "cell_type": "markdown",
   "metadata": {},
   "source": [
    "### Elastic Net\n",
    "\n",
    ">minimize (1 / (2 * n_samples) * ||y - Xw||^2 +\n",
    "            alpha * l1_ratio * ||w||_1 + \n",
    "            0.5 * alpha * (1 - l1_ratio) * ||w||^2\n",
    "\n",
    "\n",
    "\n",
    "𝐿1_ratio is the ratio between 𝐿1 and 𝐿2 penalty, ranging from 0 (ridge) to 1 (lasso)\n",
    "\n",
    "\n",
    "\n",
    "alpha :\n",
    "Constant that multiplies the penalty terms. Defaults to 1.0. See the notes for the exact mathematical meaning of this parameter.``alpha = 0`` is equivalent to an ordinary least square, solved by the LinearRegression object. For numerical reasons, using alpha = 0 with the Lasso object is not advised. Given this, you should use the LinearRegression object.\n",
    "\n",
    "l1_ratio : \n",
    "The ElasticNet mixing parameter, with 0 <= l1_ratio <= 1. For l1_ratio = 0 the penalty is an L2 penalty. For l1_ratio = 1 it is an L1 penalty. For 0 < l1_ratio < 1, the penalty is a combination of L1 and L2."
   ]
  },
  {
   "cell_type": "code",
   "execution_count": 31,
   "metadata": {
    "ExecuteTime": {
     "end_time": "2020-02-16T05:35:34.818019Z",
     "start_time": "2020-02-16T05:35:30.744795Z"
    },
    "scrolled": false
   },
   "outputs": [
    {
     "name": "stdout",
     "output_type": "stream",
     "text": [
      "ElasticNet(alpha=0.2, copy_X=True, fit_intercept=True, l1_ratio=1,\n",
      "           max_iter=1000, normalize=False, positive=False, precompute=False,\n",
      "           random_state=None, selection='cyclic', tol=0.0001, warm_start=False)\n",
      "\n",
      "            =========================================\n",
      "               MAE and MSE FOR TRAIN DATA\n",
      "            =========================================\n",
      "Mean Absolute Error :  22.962134113567807 \n",
      "Mean Squared Error :  1118.5610506612582\n",
      "\n",
      "            =========================================\n",
      "               MAE and MSE FOR TEST DATA\n",
      "            =========================================\n",
      "Mean Absolute Error :  22.269895910128398 \n",
      "Mean Squared Error :  1094.2662953347515\n"
     ]
    }
   ],
   "source": [
    "# ElasticNet model\n",
    "parameters={'alpha' : [0.2, 0.5],'l1_ratio' : [0, 0.5, 1]}\n",
    "\n",
    "model_elr_cv, model_elr, pred_train_elr, pred_test_elr = model_building(X_train_ncr, y_train,\n",
    "                                                                        X_test_ncr, \n",
    "                                                                        ElasticNet(), \n",
    "                                                                        params=parameters,k=10)\n",
    "\n",
    "model_evaluation(y_train, pred_train_elr, \n",
    "                 y_test, pred_test_elr)"
   ]
  },
  {
   "cell_type": "markdown",
   "metadata": {},
   "source": [
    "### KNN model\n",
    "\n",
    "**p** :\n",
    "    - Power parameter for the Minkowski metric. When p = 1, this is\n",
    "      equivalent to using manhattan_distance (l1), and euclidean_distance\n",
    "\n",
    "\n",
    "**weights** :\n",
    "    - 'uniform' : uniform weights.  All points in each neighborhood\n",
    "      are weighted equally.\n",
    "    - 'distance' : weight points by the inverse of their distance.\n",
    "      in this case, closer neighbors of a query point will have a\n",
    "      greater influence than neighbors which are further away."
   ]
  },
  {
   "cell_type": "code",
   "execution_count": 32,
   "metadata": {
    "ExecuteTime": {
     "end_time": "2020-02-16T05:35:39.686740Z",
     "start_time": "2020-02-16T05:35:34.821096Z"
    },
    "scrolled": true
   },
   "outputs": [
    {
     "name": "stdout",
     "output_type": "stream",
     "text": [
      "KNeighborsRegressor(algorithm='auto', leaf_size=30, metric='minkowski',\n",
      "                    metric_params=None, n_jobs=None, n_neighbors=6, p=1,\n",
      "                    weights='distance')\n",
      "\n",
      "            =========================================\n",
      "               MAE and MSE FOR TRAIN DATA\n",
      "            =========================================\n",
      "Mean Absolute Error :  0.0 \n",
      "Mean Squared Error :  0.0\n",
      "\n",
      "            =========================================\n",
      "               MAE and MSE FOR TEST DATA\n",
      "            =========================================\n",
      "Mean Absolute Error :  14.37229114509106 \n",
      "Mean Squared Error :  654.7279348104759\n"
     ]
    }
   ],
   "source": [
    "##model building\n",
    "\n",
    "model_knn_cv, model_knn, pred_train_knn, pred_test_knn = model_building(X_train_ncr, y_train,\n",
    "                                                                        X_test_ncr, \n",
    "                                                                        KNeighborsRegressor(), \n",
    "                                                                        {'n_neighbors' : [4, 5, 6], \n",
    "                                                                        'weights' : ['uniform', \n",
    "                                                                                     'distance'],\n",
    "                                                                        'p' : [1, 2]}, 10)\n",
    "\n",
    "## Evaluation\n",
    "\n",
    "model_evaluation(y_train, pred_train_knn,\n",
    "                 y_test, pred_test_knn)"
   ]
  },
  {
   "cell_type": "code",
   "execution_count": 33,
   "metadata": {
    "ExecuteTime": {
     "end_time": "2020-02-16T05:35:41.125905Z",
     "start_time": "2020-02-16T05:35:39.688763Z"
    },
    "scrolled": true
   },
   "outputs": [
    {
     "name": "stdout",
     "output_type": "stream",
     "text": [
      "DecisionTreeRegressor(ccp_alpha=0.0, criterion='mse', max_depth=9,\n",
      "                      max_features=None, max_leaf_nodes=None,\n",
      "                      min_impurity_decrease=0.0, min_impurity_split=None,\n",
      "                      min_samples_leaf=1, min_samples_split=2,\n",
      "                      min_weight_fraction_leaf=0.0, presort='deprecated',\n",
      "                      random_state=None, splitter='best')\n",
      "\n",
      "            =========================================\n",
      "               MAE and MSE FOR TRAIN DATA\n",
      "            =========================================\n",
      "Mean Absolute Error :  9.323044793552373 \n",
      "Mean Squared Error :  245.9314390674715\n",
      "\n",
      "            =========================================\n",
      "               MAE and MSE FOR TEST DATA\n",
      "            =========================================\n",
      "Mean Absolute Error :  13.637142645796814 \n",
      "Mean Squared Error :  547.5675109994015\n"
     ]
    }
   ],
   "source": [
    "## Decision Tree\n",
    "from sklearn.tree import DecisionTreeRegressor\n",
    "\n",
    "\n",
    "## Model \n",
    "model_dt_cv, model_dt, pred_train_dt, pred_test_dt = model_building(X_train_ncr, y_train,\n",
    "                                                                    X_test_ncr, \n",
    "                                                       DecisionTreeRegressor(),\n",
    "                                                       {'max_depth' : [7, 8, 9, 10, 12]}, 10)\n",
    "\n",
    "## Evaluation\n",
    "\n",
    "model_evaluation(y_train, pred_train_dt, y_test, pred_test_dt)"
   ]
  },
  {
   "cell_type": "markdown",
   "metadata": {},
   "source": [
    "Although Knn and DT seem like they have overfitted because train error is very low compared to test error, yet we can see by using grid search that training a simpler model is increasing the test error. These are the best model for this data.\n",
    "\n",
    "Let us average these classifier prediction to build a stacked model. "
   ]
  },
  {
   "cell_type": "code",
   "execution_count": 34,
   "metadata": {
    "ExecuteTime": {
     "end_time": "2020-02-16T05:35:41.137111Z",
     "start_time": "2020-02-16T05:35:41.129294Z"
    },
    "scrolled": false
   },
   "outputs": [
    {
     "name": "stdout",
     "output_type": "stream",
     "text": [
      "Mean Absolute Error :  15.539996400253484 \n",
      "Mean Squared Error :  598.5034886909848\n"
     ]
    }
   ],
   "source": [
    "pred_test_stack = (pred_test_lr + pred_test_elr + pred_test_knn + pred_test_dt)/4\n",
    "\n",
    "print(\"Mean Absolute Error : \", mean_absolute_error(y_test, pred_test_stack), \n",
    "      \"\\nMean Squared Error : \", mean_squared_error(y_test, pred_test_stack))"
   ]
  },
  {
   "cell_type": "markdown",
   "metadata": {},
   "source": [
    "As the linear models didn't give good result, we will use only Knn and DT predictions."
   ]
  },
  {
   "cell_type": "code",
   "execution_count": 35,
   "metadata": {
    "ExecuteTime": {
     "end_time": "2020-02-16T05:35:41.146966Z",
     "start_time": "2020-02-16T05:35:41.139400Z"
    },
    "scrolled": false
   },
   "outputs": [
    {
     "name": "stdout",
     "output_type": "stream",
     "text": [
      "Mean Absolute Error :  12.206868722590444 \n",
      "Mean Squared Error :  449.40331875272864\n"
     ]
    }
   ],
   "source": [
    "pred_test_stack = (pred_test_knn + pred_test_dt)/2\n",
    "\n",
    "print(\"Mean Absolute Error : \", mean_absolute_error(y_test, pred_test_stack), \n",
    "      \"\\nMean Squared Error : \", mean_squared_error(y_test, pred_test_stack))"
   ]
  },
  {
   "cell_type": "markdown",
   "metadata": {},
   "source": [
    "As we can see that the stacked model has considerably reduced the error."
   ]
  },
  {
   "cell_type": "markdown",
   "metadata": {},
   "source": [
    "___"
   ]
  },
  {
   "cell_type": "code",
   "execution_count": 36,
   "metadata": {
    "ExecuteTime": {
     "end_time": "2020-02-16T05:35:41.159837Z",
     "start_time": "2020-02-16T05:35:41.149549Z"
    }
   },
   "outputs": [
    {
     "data": {
      "text/plain": [
       "DecisionTreeRegressor(ccp_alpha=0.0, criterion='mse', max_depth=9,\n",
       "                      max_features=None, max_leaf_nodes=None,\n",
       "                      min_impurity_decrease=0.0, min_impurity_split=None,\n",
       "                      min_samples_leaf=1, min_samples_split=2,\n",
       "                      min_weight_fraction_leaf=0.0, presort='deprecated',\n",
       "                      random_state=None, splitter='best')"
      ]
     },
     "execution_count": 36,
     "metadata": {},
     "output_type": "execute_result"
    }
   ],
   "source": [
    "import pickle\n",
    "\n",
    "# Save to file in the current working directory\n",
    "pkl_filename = \"pickle_model_DT.pkl\"\n",
    "\n",
    "\n",
    "with open(pkl_filename, 'wb') as file:\n",
    "    pickle.dump(model_dt, file)\n",
    "\n",
    "# Load from file\n",
    "with open(pkl_filename, 'rb') as file:\n",
    "    pickle_model = pickle.load(file)\n",
    "    \n",
    "\n",
    "pickle_model"
   ]
  },
  {
   "cell_type": "code",
   "execution_count": 37,
   "metadata": {
    "ExecuteTime": {
     "end_time": "2020-02-16T05:35:41.168305Z",
     "start_time": "2020-02-16T05:35:41.162238Z"
    }
   },
   "outputs": [],
   "source": [
    "test_preds_dt=pickle_model.predict(X_test_ncr)\n",
    "\n"
   ]
  },
  {
   "cell_type": "code",
   "execution_count": 38,
   "metadata": {
    "ExecuteTime": {
     "end_time": "2020-02-16T05:35:41.174489Z",
     "start_time": "2020-02-16T05:35:41.170250Z"
    }
   },
   "outputs": [
    {
     "data": {
      "text/plain": [
       "(4355,)"
      ]
     },
     "execution_count": 38,
     "metadata": {},
     "output_type": "execute_result"
    }
   ],
   "source": [
    "test_preds_dt.shape"
   ]
  },
  {
   "cell_type": "code",
   "execution_count": 39,
   "metadata": {
    "ExecuteTime": {
     "end_time": "2020-02-16T05:35:41.183452Z",
     "start_time": "2020-02-16T05:35:41.177420Z"
    }
   },
   "outputs": [
    {
     "data": {
      "text/plain": [
       "(4355,)"
      ]
     },
     "execution_count": 39,
     "metadata": {},
     "output_type": "execute_result"
    }
   ],
   "source": [
    "y_test.shape"
   ]
  },
  {
   "cell_type": "code",
   "execution_count": null,
   "metadata": {},
   "outputs": [],
   "source": []
  }
 ],
 "metadata": {
  "kernelspec": {
   "display_name": "Python 3",
   "language": "python",
   "name": "python3"
  },
  "language_info": {
   "codemirror_mode": {
    "name": "ipython",
    "version": 3
   },
   "file_extension": ".py",
   "mimetype": "text/x-python",
   "name": "python",
   "nbconvert_exporter": "python",
   "pygments_lexer": "ipython3",
   "version": "3.7.6"
  }
 },
 "nbformat": 4,
 "nbformat_minor": 2
}
